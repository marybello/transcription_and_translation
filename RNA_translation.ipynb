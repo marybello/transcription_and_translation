{
  "nbformat": 4,
  "nbformat_minor": 0,
  "metadata": {
    "colab": {
      "name": "RNA_translation.ipynb",
      "provenance": [],
      "collapsed_sections": [],
      "authorship_tag": "ABX9TyNE5XehQ/Fb9U9g0nndPP4+",
      "include_colab_link": true
    },
    "kernelspec": {
      "name": "python3",
      "display_name": "Python 3"
    },
    "language_info": {
      "name": "python"
    }
  },
  "cells": [
    {
      "cell_type": "markdown",
      "metadata": {
        "id": "view-in-github",
        "colab_type": "text"
      },
      "source": [
        "<a href=\"https://colab.research.google.com/github/marybello/transcription_and_translation/blob/main/RNA_translation.ipynb\" target=\"_parent\"><img src=\"https://colab.research.google.com/assets/colab-badge.svg\" alt=\"Open In Colab\"/></a>"
      ]
    },
    {
      "cell_type": "code",
      "metadata": {
        "colab": {
          "base_uri": "https://localhost:8080/"
        },
        "id": "xCUuPqcV_Fk0",
        "outputId": "04c71914-4b1d-4b20-a0ae-6429ac12843b"
      },
      "source": [
        "rna = [1,2,3,4,5,6,6,7]\n",
        "rna[0:3]"
      ],
      "execution_count": null,
      "outputs": [
        {
          "output_type": "execute_result",
          "data": {
            "text/plain": [
              "[1, 2, 3]"
            ]
          },
          "metadata": {},
          "execution_count": 2
        }
      ]
    },
    {
      "cell_type": "code",
      "metadata": {
        "id": "8JdUyMrrB-6Q"
      },
      "source": [
        "#codon dictionary\n",
        "rna_codon = {\"UUU\" : \"F\", \"CUU\" : \"L\", \"AUU\" : \"I\", \"GUU\" : \"V\",\n",
        "           \"UUC\" : \"F\", \"CUC\" : \"L\", \"AUC\" : \"I\", \"GUC\" : \"V\",\n",
        "           \"UUA\" : \"L\", \"CUA\" : \"L\", \"AUA\" : \"I\", \"GUA\" : \"V\",\n",
        "           \"UUG\" : \"L\", \"CUG\" : \"L\", \"AUG\" : \"M\", \"GUG\" : \"V\",\n",
        "           \"UCU\" : \"S\", \"CCU\" : \"P\", \"ACU\" : \"T\", \"GCU\" : \"A\",\n",
        "           \"UCC\" : \"S\", \"CCC\" : \"P\", \"ACC\" : \"T\", \"GCC\" : \"A\",\n",
        "           \"UCA\" : \"S\", \"CCA\" : \"P\", \"ACA\" : \"T\", \"GCA\" : \"A\",\n",
        "           \"UCG\" : \"S\", \"CCG\" : \"P\", \"ACG\" : \"T\", \"GCG\" : \"A\",\n",
        "           \"UAU\" : \"Y\", \"CAU\" : \"H\", \"AAU\" : \"N\", \"GAU\" : \"D\",\n",
        "           \"UAC\" : \"Y\", \"CAC\" : \"H\", \"AAC\" : \"N\", \"GAC\" : \"D\",\n",
        "           \"UAA\" : \"STOP\", \"CAA\" : \"Q\", \"AAA\" : \"K\", \"GAA\" : \"E\",\n",
        "           \"UAG\" : \"STOP\", \"CAG\" : \"Q\", \"AAG\" : \"K\", \"GAG\" : \"E\",\n",
        "           \"UGU\" : \"C\", \"CGU\" : \"R\", \"AGU\" : \"S\", \"GGU\" : \"G\",\n",
        "           \"UGC\" : \"C\", \"CGC\" : \"R\", \"AGC\" : \"S\", \"GGC\" : \"G\",\n",
        "           \"UGA\" : \"STOP\", \"CGA\" : \"R\", \"AGA\" : \"R\", \"GGA\" : \"G\",\n",
        "           \"UGG\" : \"W\", \"CGG\" : \"R\", \"AGG\" : \"R\", \"GGG\" : \"G\" \n",
        "           }"
      ],
      "execution_count": null,
      "outputs": []
    },
    {
      "cell_type": "code",
      "metadata": {
        "id": "hDZuAkbdZkwj"
      },
      "source": [
        "rna_codon"
      ],
      "execution_count": null,
      "outputs": []
    },
    {
      "cell_type": "code",
      "metadata": {
        "colab": {
          "base_uri": "https://localhost:8080/"
        },
        "id": "saUuDLebIsVv",
        "outputId": "30a09cc2-5a50-44c1-be0c-de0291e9a842"
      },
      "source": [
        "rna_codon.items()"
      ],
      "execution_count": null,
      "outputs": [
        {
          "output_type": "execute_result",
          "data": {
            "text/plain": [
              "dict_items([('UUU', 'F'), ('CUU', 'L'), ('AUU', 'I'), ('GUU', 'V'), ('UUC', 'F'), ('CUC', 'L'), ('AUC', 'I'), ('GUC', 'V'), ('UUA', 'L'), ('CUA', 'L'), ('AUA', 'I'), ('GUA', 'V'), ('UUG', 'L'), ('CUG', 'L'), ('AUG', 'M'), ('GUG', 'V'), ('UCU', 'S'), ('CCU', 'P'), ('ACU', 'T'), ('GCU', 'A'), ('UCC', 'S'), ('CCC', 'P'), ('ACC', 'T'), ('GCC', 'A'), ('UCA', 'S'), ('CCA', 'P'), ('ACA', 'T'), ('GCA', 'A'), ('UCG', 'S'), ('CCG', 'P'), ('ACG', 'T'), ('GCG', 'A'), ('UAU', 'Y'), ('CAU', 'H'), ('AAU', 'N'), ('GAU', 'D'), ('UAC', 'Y'), ('CAC', 'H'), ('AAC', 'N'), ('GAC', 'D'), ('UAA', 'STOP'), ('CAA', 'Q'), ('AAA', 'K'), ('GAA', 'E'), ('UAG', 'STOP'), ('CAG', 'Q'), ('AAG', 'K'), ('GAG', 'E'), ('UGU', 'C'), ('CGU', 'R'), ('AGU', 'S'), ('GGU', 'G'), ('UGC', 'C'), ('CGC', 'R'), ('AGC', 'S'), ('GGC', 'G'), ('UGA', 'STOP'), ('CGA', 'R'), ('AGA', 'R'), ('GGA', 'G'), ('UGG', 'W'), ('CGG', 'R'), ('AGG', 'R'), ('GGG', 'G')])"
            ]
          },
          "metadata": {},
          "execution_count": 7
        }
      ]
    },
    {
      "cell_type": "code",
      "metadata": {
        "id": "vmFB0PPFEHJv"
      },
      "source": [
        "#changing the single letter codes in the dictionary to the 3 letters amino acid codes\n",
        "for k, v in rna_codon.items():\n",
        "  m_dict = {\"F\": \"Phe\", \"A\":\"Ala\", \"R\":\"Arg\", \"N\":\"Asn\", \"D\": \"Asp\", \"C\":\"Cys\",\n",
        "            \"Q\":\"Gln\", \"E\": \"Glu\", \"G\":\"Gly\", \"H\":\"His\", \"I\":\"Ile\", \"L\":\"Leu\",\n",
        "            \"K\":\"Lys\", \"M\": \"Met\", \"P\":\"Pro\", \"S\":\"Ser\", \"T\":\"Thr\",\"W\":\"Trp\",\n",
        "            \"Y\":\"Tyr\", \"V\":\"Val\"}\n",
        "  if v in m_dict:\n",
        "    rna_codon.update({k: m_dict[v]})        \n",
        "    \n"
      ],
      "execution_count": null,
      "outputs": []
    },
    {
      "cell_type": "code",
      "metadata": {
        "id": "PbSJsaO0NH7v"
      },
      "source": [
        "#Transcribing DNA to RNA (DNA SEQUENCE GOTTEN FROM NCBI)\n",
        "beta_hemoglobin_dna = \"\"\"ACATTTGCTTCTGACACAACTGTGTTCACTAGCAACCTCAAACAGACACCATGGTGCATCTGACTCCTGA\n",
        "GGAGAAGTCTGCCGTTACTGCCCTGTGGGGCAAGGTGAACGTGGATGAAGTTGGTGGTGAGGCCCTGGGC\n",
        "AGGTTGGTATCAAGGTTACAAGACAGGTTTAAGGAGACCAATAGAAACTGGGCATGTGGAGACAGAGAAG\n",
        "ACTCTTGGGTTTCTGATAGGCACTGACTCTCTCTGCCTATTGGTCTATTTTCCCACCCTTAGGCTGCTGG\n",
        "TGGTCTACCCTTGGACCCAGAGGTTCTTTGAGTCCTTTGGGGATCTGTCCACTCCTGATGCTGTTATGGG\n",
        "CAACCCTAAGGTGAAGGCTCATGGCAAGAAAGTGCTCGGTGCCTTTAGTGATGGCCTGGCTCACCTGGAC\n",
        "AACCTCAAGGGCACCTTTGCCACACTGAGTGAGCTGCACTGTGACAAGCTGCACGTGGATCCTGAGAACT\n",
        "TCAGGGTGAGTCTATGGGACGCTTGATGTTTTCTTTCCCCTTCTTTTCTATGGTTAAGTTCATGTCATAG\n",
        "GAAGGGGATAAGTAACAGGGTACAGTTTAGAATGGGAAACAGACGAATGATTGCATCAGTGTGGAAGTCT\n",
        "CAGGATCGTTTTAGTTTCTTTTATTTGCTGTTCATAACAATTGTTTTCTTTTGTTTAATTCTTGCTTTCT\n",
        "TTTTTTTTCTTCTCCGCAATTTTTACTATTATACTTAATGCCTTAACATTGTGTATAACAAAAGGAAATA\n",
        "TCTCTGAGATACATTAAGTAACTTAAAAAAAAACTTTACACAGTCTGCCTAGTACATTACTATTTGGAAT\n",
        "ATATGTGTGCTTATTTGCATATTCATAATCTCCCTACTTTATTTTCTTTTATTTTTAATTGATACATAAT\n",
        "CATTATACATATTTATGGGTTAAAGTGTAATGTTTTAATATGTGTACACATATTGACCAAATCAGGGTAA\n",
        "TTTTGCATTTGTAATTTTAAAAAATGCTTTCTTCTTTTAATATACTTTTTTGTTTATCTTATTTCTAATA\n",
        "CTTTCCCTAATCTCTTTCTTTCAGGGCAATAATGATACAATGTATCATGCCTCTTTGCACCATTCTAAAG\n",
        "AATAACAGTGATAATTTCTGGGTTAAGGCAATAGCAATATCTCTGCATATAAATATTTCTGCATATAAAT\n",
        "TGTAACTGATGTAAGAGGTTTCATATTGCTAATAGCAGCTACAATCCAGCTACCATTCTGCTTTTATTTT\n",
        "ATGGTTGGGATAAGGCTGGATTATTCTGAGTCCAAGCTAGGCCCTTTTGCTAATCATGTTCATACCTCTT\n",
        "ATCTTCCTCCCACAGCTCCTGGGCAACGTGCTGGTCTGTGTGCTGGCCCATCACTTTGGCAAAGAATTCA\n",
        "CCCCACCAGTGCAGGCTGCCTATCAGAAAGTGGTGGCTGGTGTGGCTAATGCCCTGGCCCACAAGTATCA\n",
        "CTAAGCTCGCTTTCTTGCTGTCCAATTTCTATTAAAGGTTCCTTTGTTCCCTAAGTCCAACTACTAAACT\n",
        "GGGGGATATTATGAAGGGCCTTGAGCATCTGGATTCTGCCTAATAAAAAACATTTATTTTCATTGCAA\"\"\""
      ],
      "execution_count": null,
      "outputs": []
    },
    {
      "cell_type": "code",
      "metadata": {
        "id": "6XQwScE_OkPt"
      },
      "source": [
        "#replace the new lines with an empty string\n",
        "dna = hemo.replace(\"\\n\", \"\")"
      ],
      "execution_count": null,
      "outputs": []
    },
    {
      "cell_type": "code",
      "metadata": {
        "id": "WBLmpfs9Tlbm"
      },
      "source": [
        "#function to transcribe from DNA to RNA\n",
        "def transcribe(dna):\n",
        "  new_dna = dna.replace(\"\\n\", \"\")\n",
        "  transcript = new_dna.maketrans(\"ATGC\", \"UACG\")\n",
        "  rna = new_dna.translate(transcript)\n",
        "\n",
        "  return rna"
      ],
      "execution_count": null,
      "outputs": []
    },
    {
      "cell_type": "code",
      "metadata": {
        "id": "GIuYGOxCUQvw"
      },
      "source": [
        "gamma_hemo_dna = \"\"\"ACACTCGCTTCTGGAACGTCTGAGGTTATCAATAAGCTCCTAGTCCAGACGCCATGGGTCATTTCACAGA\n",
        "GGAGGACAAGGCTACTATCACAAGCCTGTGGGGCAAGGTGAATGTGGAAGATGCTGGAGGAGAAACCCTG\n",
        "GGAAGGTAGGCTCTGGTGACCAGGACAAGGGAGGGAAGGAAGGACCCTGTGCCTGGCAAAAGTCCAGGTC\n",
        "GCTTCTCAGGATTTGTGGCACCTTCTGACTGTCAAACTGTTCTTGTCAATCTCACAGGCTCCTGGTTGTC\n",
        "TACCCATGGACCCAGAGGTTCTTTGACAGCTTTGGCAACCTGTCCTCTGCCTCTGCCATCATGGGCAACC\n",
        "CCAAAGTCAAGGCACATGGCAAGAAGGTGCTGACTTCCTTGGGAGATGCCACAAAGCACCTGGATGATCT\n",
        "CAAGGGCACCTTTGCCCAGCTGAGTGAACTGCACTGTGACAAGCTGCATGTGGATCCTGAGAACTTCAAG\n",
        "GTGAGTCCAGGAGATGTTTCAGCCCTGTTGCCTTTAGTCTCGAGGCAACTTAGACAACGGAGTATTGATC\n",
        "TGAGCACAGCAGGGTGTGAGCTGTTTGAAGATACTGGGGTTGGGGGTGAAGAAACTGCAGAGGACTAACT\n",
        "GGGCTGAGACCCAGTGGTAATGTTTTAGGGCCTAAGGAGTGCCTCTAAAAATCTAGATGGACAATTTTGA\n",
        "CTTTGAGAAAAGAGAGGTGGAAATGAGGAAAATGACTTTTCTTTATTAGATTCCAGTAGAAAGAACTTTC\n",
        "ATCTTTCCCTCATTTTTGTTGTTTTAAAACATCTATCTGGAGGCAGGACAAGTATGGTCGTTAAAAAGAT\n",
        "GCAGGCAGAAGGCATATATTGGCTCAGTCAAAGTGGGGAACTTTGGTGGCCAAACATACATTGCTAAGGC\n",
        "TATTCCTATATCAGCTGGACACATATAAAATGCTGCTAATGCTTCATTACAAACTTATATCCTTTAATTC\n",
        "CAGATGGGGGCAAAGTATGTCCAGGGGTGAGGAACAATTGAAACATTTGGGCTGGAGTAGATTTTGAAAG\n",
        "TCAGCTCTGTGTGTGTGTGTGTGTGTGCGCGCGCGCGTGTGTGTGTGTGTGTCAGCGTGTGTTTCTTTTA\n",
        "ACGTCTTCAGCCTACAACATACAGGGTTCATGGTGGCAAGAAGATAGCAAGATTTAAATTATGGCCAGTG\n",
        "ACTAGTGCTTGAAGGGGAACAACTACCTGCATTTAATGGGAAGGCAAAATCTCAGGCTTTGAGGGAAGTT\n",
        "AACATAGGCTTGATTCTGGGTGGAAGCTTGGTGTGTAGTTATCTGGAGGCCAGGCTGGAGCTCTCAGCTC\n",
        "ACTATGGGTTCATCTTTATTGTCTCCTTTCATCTCAACAGCTCCTGGGAAATGTGCTGGTGACCGTTTTG\n",
        "GCAATCCATTTCGGCAAAGAATTCACCCCTGAGGTGCAGGCTTCCTGGCAGAAGATGGTGACTGCAGTGG\n",
        "CCAGTGCCCTGTCCTCCAGATACCACTGAGCTCACTGCCCATGATTCAGAGCTTTCAAGGATAGGCTTTA\n",
        "TTCTGCAAGCAATACAAATAATAAATCTATTCTGCTGAGAGATCACACA  \n",
        "\n",
        "\n",
        "\"\"\""
      ],
      "execution_count": null,
      "outputs": []
    },
    {
      "cell_type": "code",
      "metadata": {
        "colab": {
          "base_uri": "https://localhost:8080/",
          "height": 182
        },
        "id": "19xW2HHpU2PK",
        "outputId": "2cab5890-816b-467a-d8c2-a133921da806"
      },
      "source": [
        "transcribe(gamma_hemo_dna)"
      ],
      "execution_count": null,
      "outputs": [
        {
          "output_type": "execute_result",
          "data": {
            "application/vnd.google.colaboratory.intrinsic+json": {
              "type": "string"
            },
            "text/plain": [
              "'UGUGAGCGAAGACCUUGCAGACUCCAAUAGUUAUUCGAGGAUCAGGUCUGCGGUACCCAGUAAAGUGUCUCCUCCUGUUCCGAUGAUAGUGUUCGGACACCCCGUUCCACUUACACCUUCUACGACCUCCUCUUUGGGACCCUUCCAUCCGAGACCACUGGUCCUGUUCCCUCCCUUCCUUCCUGGGACACGGACCGUUUUCAGGUCCAGCGAAGAGUCCUAAACACCGUGGAAGACUGACAGUUUGACAAGAACAGUUAGAGUGUCCGAGGACCAACAGAUGGGUACCUGGGUCUCCAAGAAACUGUCGAAACCGUUGGACAGGAGACGGAGACGGUAGUACCCGUUGGGGUUUCAGUUCCGUGUACCGUUCUUCCACGACUGAAGGAACCCUCUACGGUGUUUCGUGGACCUACUAGAGUUCCCGUGGAAACGGGUCGACUCACUUGACGUGACACUGUUCGACGUACACCUAGGACUCUUGAAGUUCCACUCAGGUCCUCUACAAAGUCGGGACAACGGAAAUCAGAGCUCCGUUGAAUCUGUUGCCUCAUAACUAGACUCGUGUCGUCCCACACUCGACAAACUUCUAUGACCCCAACCCCCACUUCUUUGACGUCUCCUGAUUGACCCGACUCUGGGUCACCAUUACAAAAUCCCGGAUUCCUCACGGAGAUUUUUAGAUCUACCUGUUAAAACUGAAACUCUUUUCUCUCCACCUUUACUCCUUUUACUGAAAAGAAAUAAUCUAAGGUCAUCUUUCUUGAAAGUAGAAAGGGAGUAAAAACAACAAAAUUUUGUAGAUAGACCUCCGUCCUGUUCAUACCAGCAAUUUUUCUACGUCCGUCUUCCGUAUAUAACCGAGUCAGUUUCACCCCUUGAAACCACCGGUUUGUAUGUAACGAUUCCGAUAAGGAUAUAGUCGACCUGUGUAUAUUUUACGACGAUUACGAAGUAAUGUUUGAAUAUAGGAAAUUAAGGUCUACCCCCGUUUCAUACAGGUCCCCACUCCUUGUUAACUUUGUAAACCCGACCUCAUCUAAAACUUUCAGUCGAGACACACACACACACACACACGCGCGCGCGCACACACACACACACAGUCGCACACAAAGAAAAUUGCAGAAGUCGGAUGUUGUAUGUCCCAAGUACCACCGUUCUUCUAUCGUUCUAAAUUUAAUACCGGUCACUGAUCACGAACUUCCCCUUGUUGAUGGACGUAAAUUACCCUUCCGUUUUAGAGUCCGAAACUCCCUUCAAUUGUAUCCGAACUAAGACCCACCUUCGAACCACACAUCAAUAGACCUCCGGUCCGACCUCGAGAGUCGAGUGAUACCCAAGUAGAAAUAACAGAGGAAAGUAGAGUUGUCGAGGACCCUUUACACGACCACUGGCAAAACCGUUAGGUAAAGCCGUUUCUUAAGUGGGGACUCCACGUCCGAAGGACCGUCUUCUACCACUGACGUCACCGGUCACGGGACAGGAGGUCUAUGGUGACUCGAGUGACGGGUACUAAGUCUCGAAAGUUCCUAUCCGAAAUAAGACGUUCGUUAUGUUUAUUAUUUAGAUAAGACGACUCUCUAGUGUGU  '"
            ]
          },
          "metadata": {},
          "execution_count": 35
        }
      ]
    },
    {
      "cell_type": "code",
      "metadata": {
        "id": "f0hNILFSGpTR"
      },
      "source": [
        "#RNA sequence\n",
        "Rna = \"AUGCUGGAUGGAACUUGACUACGUAAAUU\""
      ],
      "execution_count": null,
      "outputs": []
    },
    {
      "cell_type": "code",
      "metadata": {
        "id": "EsxGA0RSSv8A"
      },
      "source": [
        "#create a function to translate\n",
        "def translate_rna(rna):\n",
        "  protein = \"\"\n",
        "  for i in range(0, len(rna), 3):\n",
        "    codon = rna[i:i+3]\n",
        "    if len(codon) != 3:\n",
        "      break\n",
        "    protein = protein + \"-\" + rna_codon[codon]\n",
        "  return protein    "
      ],
      "execution_count": null,
      "outputs": []
    },
    {
      "cell_type": "code",
      "metadata": {
        "id": "HQ249gJPTWZB"
      },
      "source": [
        "protein_seq = translate(rna_seq)"
      ],
      "execution_count": null,
      "outputs": []
    },
    {
      "cell_type": "code",
      "metadata": {
        "colab": {
          "base_uri": "https://localhost:8080/",
          "height": 182
        },
        "id": "4aPTy8VmMj3L",
        "outputId": "599943a2-6852-49d7-d80f-77aba8ec4cac"
      },
      "source": [
        "protein_seq"
      ],
      "execution_count": null,
      "outputs": [
        {
          "output_type": "execute_result",
          "data": {
            "application/vnd.google.colaboratory.intrinsic+json": {
              "type": "string"
            },
            "text/plain": [
              "'-Cys-Lys-Arg-Arg-Leu-Cys-STOP-His-Lys-STOP-Ser-Leu-Glu-Phe-Val-Cys-Gly-Thr-Thr-STOP-Thr-Glu-Asp-Ser-Ser-Ser-Asp-Gly-Asn-Asp-Gly-Thr-Pro-Arg-Ser-Thr-Cys-Thr-Tyr-Phe-Asn-His-His-Ser-Gly-Thr-Arg-Pro-Thr-Ile-Val-Pro-Met-Phe-Cys-Pro-Asn-Ser-Ser-Gly-Tyr-Leu-STOP-Pro-Val-His-Leu-Cys-Leu-Phe-STOP-Glu-Pro-Lys-Asp-Tyr-Pro-STOP-Leu-Arg-Glu-Thr-Asp-Asn-Gln-Ile-Lys-Gly-Trp-Glu-Ser-Asp-Asp-His-Gln-Met-Gly-Thr-Trp-Val-Ser-Lys-Lys-Leu-Arg-Lys-Pro-Leu-Asp-Arg-STOP-Gly-Leu-Arg-Gln-Tyr-Pro-Leu-Gly-Phe-His-Phe-Arg-Val-Pro-Phe-Phe-His-Glu-Pro-Arg-Lys-Ser-Leu-Pro-Asp-Arg-Val-Asp-Leu-Leu-Glu-Phe-Pro-Trp-Lys-Arg-Cys-Asp-Ser-Leu-Asp-Val-Thr-Leu-Phe-Asp-Val-His-Leu-Gly-Leu-Leu-Lys-Ser-His-Ser-Asp-Thr-Leu-Arg-Thr-Thr-Lys-Glu-Arg-Gly-Arg-Lys-Asp-Thr-Asn-Ser-Ser-Thr-Val-Ser-Phe-Pro-Tyr-Ser-Leu-Ser-His-Val-Lys-Ser-Tyr-Pro-Leu-Ser-Ala-Tyr-STOP-Arg-Ser-His-Thr-Phe-Arg-Val-Leu-Ala-Lys-Ser-Lys-Lys-Ile-Asn-Asp-Lys-Tyr-Cys-STOP-Gln-Lys-Lys-Thr-Asn-STOP-Glu-Arg-Lys-Lys-Lys-Lys-Glu-Glu-Ala-Leu-Lys-Met-Ile-Ile-STOP-Ile-Thr-Glu-Leu-STOP-His-Ile-Leu-Phe-Ser-Phe-Ile-Glu-Thr-Leu-Cys-Asn-Ser-Leu-Asn-Phe-Phe-Leu-Lys-Cys-Val-Arg-Arg-Ile-Met-STOP-STOP-STOP-Thr-Leu-Tyr-Thr-His-Glu-STOP-Thr-Tyr-Lys-Tyr-STOP-Arg-Asp-Glu-Ile-Lys-Glu-Asn-Lys-Asn-STOP-Leu-Cys-Ile-Ser-Asn-Met-Tyr-Lys-Tyr-Pro-Ile-Ser-His-Tyr-Lys-Ile-Ile-His-Met-Cys-Ile-Thr-Gly-Leu-Val-Pro-Leu-Lys-Arg-Lys-His-STOP-Asn-Phe-Leu-Arg-Lys-Lys-Lys-Ile-Ile-STOP-Lys-Asn-Lys-STOP-Asn-Lys-Asp-Tyr-Glu-Arg-Asp-STOP-Arg-Lys-Lys-Val-Pro-Leu-Leu-Leu-Cys-Tyr-Ile-Val-Arg-Arg-Asn-Val-Val-Arg-Phe-Leu-Ile-Val-Thr-Ile-Lys-Asp-Pro-Ile-Pro-Leu-Ser-Leu-STOP-Arg-Arg-Ile-Phe-Ile-Lys-Thr-Tyr-Ile-STOP-His-STOP-Leu-His-Ser-Pro-Lys-Tyr-Asn-Asp-Tyr-Arg-Arg-Cys-STOP-Val-Asp-Gly-Lys-Thr-Lys-Ile-Lys-Tyr-Gln-Pro-Tyr-Ser-Asp-Leu-Ile-Arg-Leu-Arg-Phe-Asp-Pro-Gly-Lys-Arg-Leu-Val-Gln-Val-Trp-Arg-Ile-Glu-Gly-Gly-Cys-Arg-Gly-Pro-Val-Ala-Arg-Pro-Asp-Thr-Arg-Pro-Gly-Ser-Glu-Thr-Val-Ser-STOP-Val-Gly-Trp-Ser-Arg-Pro-Thr-Asp-Ser-Leu-Ser-Pro-Pro-Thr-Thr-Pro-Ile-Thr-Gly-Pro-Gly-Val-His-Ser-Asp-Ser-Ser-Glu-Arg-Thr-Thr-Gly-STOP-Arg-STOP-Phe-Pro-Arg-Lys-Gln-Gly-Ile-Gln-Val-Asp-Asp-Leu-Thr-Pro-Tyr-Asn-Thr-Ser-Arg-Asn-Ser-STOP-Thr-STOP-Asp-Gly-Leu-Phe-Phe-Val-Asn-Lys-Ser-Asn-Val'"
            ]
          },
          "metadata": {},
          "execution_count": 43
        }
      ]
    },
    {
      "cell_type": "code",
      "metadata": {
        "id": "UjymQCOFMlHB"
      },
      "source": [
        "#convert the string into a list\n",
        "def convert_str(seq):\n",
        "  li = list(seq.split(\"-\"))\n",
        "  return li\n"
      ],
      "execution_count": null,
      "outputs": []
    },
    {
      "cell_type": "code",
      "metadata": {
        "id": "2mO1u-8ooUm3"
      },
      "source": [
        "amino_acids = convert_str(protein_seq)"
      ],
      "execution_count": null,
      "outputs": []
    },
    {
      "cell_type": "code",
      "metadata": {
        "colab": {
          "base_uri": "https://localhost:8080/",
          "height": 36
        },
        "id": "yVzXKDTzpXyb",
        "outputId": "5fcb426c-e84d-450e-840b-1262ccfd0d47"
      },
      "source": [
        "amino_acids[0]"
      ],
      "execution_count": null,
      "outputs": [
        {
          "output_type": "execute_result",
          "data": {
            "application/vnd.google.colaboratory.intrinsic+json": {
              "type": "string"
            },
            "text/plain": [
              "''"
            ]
          },
          "metadata": {},
          "execution_count": 48
        }
      ]
    },
    {
      "cell_type": "code",
      "metadata": {
        "id": "3PnajhYJpE-J"
      },
      "source": [
        "amino_acids.remove('')"
      ],
      "execution_count": null,
      "outputs": []
    },
    {
      "cell_type": "code",
      "metadata": {
        "id": "rYA6nZgFpGQY"
      },
      "source": [
        "#list count\n",
        "list_count= [[x,amino_acids.count(x)] for x in set(amino_acids)]"
      ],
      "execution_count": null,
      "outputs": []
    },
    {
      "cell_type": "code",
      "metadata": {
        "colab": {
          "base_uri": "https://localhost:8080/"
        },
        "id": "tX2y6AS6rT6g",
        "outputId": "ab3df08a-11b3-45e5-ae89-c3c17cbd3208"
      },
      "source": [
        "list_count"
      ],
      "execution_count": null,
      "outputs": [
        {
          "output_type": "execute_result",
          "data": {
            "text/plain": [
              "[['Gly', 24],\n",
              " ['Glu', 20],\n",
              " ['Trp', 5],\n",
              " ['Tyr', 22],\n",
              " ['His', 19],\n",
              " ['Met', 6],\n",
              " ['Ser', 41],\n",
              " ['Thr', 38],\n",
              " ['STOP', 31],\n",
              " ['Val', 28],\n",
              " ['Asp', 30],\n",
              " ['Ala', 4],\n",
              " ['Pro', 33],\n",
              " ['Gln', 8],\n",
              " ['Asn', 21],\n",
              " ['Lys', 49],\n",
              " ['Ile', 29],\n",
              " ['Arg', 44],\n",
              " ['Phe', 23],\n",
              " ['Cys', 15],\n",
              " ['Leu', 46]]"
            ]
          },
          "metadata": {},
          "execution_count": 56
        }
      ]
    },
    {
      "cell_type": "code",
      "metadata": {
        "id": "rIqLhYGlpdLT"
      },
      "source": [
        "import matplotlib.pyplot as plt #library for visualization\n"
      ],
      "execution_count": null,
      "outputs": []
    },
    {
      "cell_type": "code",
      "metadata": {
        "colab": {
          "base_uri": "https://localhost:8080/"
        },
        "id": "E8JZFmeKrc2x",
        "outputId": "d17c72bb-5078-4ae4-ae2b-8d3fa08ce0a6"
      },
      "source": [
        "len(list_count)"
      ],
      "execution_count": null,
      "outputs": [
        {
          "output_type": "execute_result",
          "data": {
            "text/plain": [
              "21"
            ]
          },
          "metadata": {},
          "execution_count": 60
        }
      ]
    },
    {
      "cell_type": "code",
      "metadata": {
        "id": "dTHOlXpXqPVv"
      },
      "source": [
        "#create the list of the amino acids and their corresponding values for a bar plot\n",
        "amino_acid =[]\n",
        "values =[]\n",
        "for pair in list_count:\n",
        "  amino_acid.append(pair[0])\n",
        "  values.append(pair[1])"
      ],
      "execution_count": null,
      "outputs": []
    },
    {
      "cell_type": "code",
      "metadata": {
        "colab": {
          "base_uri": "https://localhost:8080/",
          "height": 369
        },
        "id": "ybnQQHYgrX-R",
        "outputId": "b2d8d1c7-6d49-4980-d87c-f8e5980d584f"
      },
      "source": [
        "fig= plt.figure(figsize=(10,5))\n",
        "plt.bar(amino_acid, \n",
        "        values,\n",
        "        color='maroon',\n",
        "        width=0.6)\n",
        "plt.xlabel(\"amino_acids\")\n",
        "plt.ylabel(\"frequencies\")\n",
        "plt.title('amino acids in human beta-hemoglobin')"
      ],
      "execution_count": null,
      "outputs": [
        {
          "output_type": "execute_result",
          "data": {
            "text/plain": [
              "Text(0.5, 1.0, 'amino acids in human beta-hemoglobin')"
            ]
          },
          "metadata": {},
          "execution_count": 67
        },
        {
          "output_type": "display_data",
          "data": {
            "image/png": "[encoded data removed]",
            "text/plain": [
              "<Figure size 720x360 with 1 Axes>"
            ]
          },
          "metadata": {
            "needs_background": "light"
          }
        }
      ]
    },
    {
      "cell_type": "code",
      "metadata": {
        "id": "pXDtrmxEr-dW"
      },
      "source": [
        ""
      ],
      "execution_count": null,
      "outputs": []
    }
  ]
}
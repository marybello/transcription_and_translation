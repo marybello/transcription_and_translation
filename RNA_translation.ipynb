{
  "nbformat": 4,
  "nbformat_minor": 0,
  "metadata": {
    "colab": {
      "name": "RNA_translation.ipynb",
      "provenance": [],
      "collapsed_sections": [],
      "authorship_tag": "ABX9TyMuxPJxpKFvg3n5VebTy8Ms",
      "include_colab_link": true
    },
    "kernelspec": {
      "name": "python3",
      "display_name": "Python 3"
    },
    "language_info": {
      "name": "python"
    }
  },
  "cells": [
    {
      "cell_type": "markdown",
      "metadata": {
        "id": "view-in-github",
        "colab_type": "text"
      },
      "source": [
        "<a href=\"https://colab.research.google.com/github/marybello/transcription_and_translation/blob/main/RNA_translation.ipynb\" target=\"_parent\"><img src=\"https://colab.research.google.com/assets/colab-badge.svg\" alt=\"Open In Colab\"/></a>"
      ]
    },
    {
      "cell_type": "code",
      "metadata": {
        "colab": {
          "base_uri": "https://localhost:8080/"
        },
        "id": "xCUuPqcV_Fk0",
        "outputId": "04c71914-4b1d-4b20-a0ae-6429ac12843b"
      },
      "source": [
        "rna = [1,2,3,4,5,6,6,7]\n",
        "rna[0:3]"
      ],
      "execution_count": 2,
      "outputs": [
        {
          "output_type": "execute_result",
          "data": {
            "text/plain": [
              "[1, 2, 3]"
            ]
          },
          "metadata": {},
          "execution_count": 2
        }
      ]
    },
    {
      "cell_type": "code",
      "metadata": {
        "id": "8JdUyMrrB-6Q"
      },
      "source": [
        "#codon dictionary\n",
        "rna_codon = {\"UUU\" : \"F\", \"CUU\" : \"L\", \"AUU\" : \"I\", \"GUU\" : \"V\",\n",
        "           \"UUC\" : \"F\", \"CUC\" : \"L\", \"AUC\" : \"I\", \"GUC\" : \"V\",\n",
        "           \"UUA\" : \"L\", \"CUA\" : \"L\", \"AUA\" : \"I\", \"GUA\" : \"V\",\n",
        "           \"UUG\" : \"L\", \"CUG\" : \"L\", \"AUG\" : \"M\", \"GUG\" : \"V\",\n",
        "           \"UCU\" : \"S\", \"CCU\" : \"P\", \"ACU\" : \"T\", \"GCU\" : \"A\",\n",
        "           \"UCC\" : \"S\", \"CCC\" : \"P\", \"ACC\" : \"T\", \"GCC\" : \"A\",\n",
        "           \"UCA\" : \"S\", \"CCA\" : \"P\", \"ACA\" : \"T\", \"GCA\" : \"A\",\n",
        "           \"UCG\" : \"S\", \"CCG\" : \"P\", \"ACG\" : \"T\", \"GCG\" : \"A\",\n",
        "           \"UAU\" : \"Y\", \"CAU\" : \"H\", \"AAU\" : \"N\", \"GAU\" : \"D\",\n",
        "           \"UAC\" : \"Y\", \"CAC\" : \"H\", \"AAC\" : \"N\", \"GAC\" : \"D\",\n",
        "           \"UAA\" : \"STOP\", \"CAA\" : \"Q\", \"AAA\" : \"K\", \"GAA\" : \"E\",\n",
        "           \"UAG\" : \"STOP\", \"CAG\" : \"Q\", \"AAG\" : \"K\", \"GAG\" : \"E\",\n",
        "           \"UGU\" : \"C\", \"CGU\" : \"R\", \"AGU\" : \"S\", \"GGU\" : \"G\",\n",
        "           \"UGC\" : \"C\", \"CGC\" : \"R\", \"AGC\" : \"S\", \"GGC\" : \"G\",\n",
        "           \"UGA\" : \"STOP\", \"CGA\" : \"R\", \"AGA\" : \"R\", \"GGA\" : \"G\",\n",
        "           \"UGG\" : \"W\", \"CGG\" : \"R\", \"AGG\" : \"R\", \"GGG\" : \"G\" \n",
        "           }"
      ],
      "execution_count": 3,
      "outputs": []
    },
    {
      "cell_type": "code",
      "metadata": {
        "colab": {
          "base_uri": "https://localhost:8080/"
        },
        "id": "saUuDLebIsVv",
        "outputId": "30a09cc2-5a50-44c1-be0c-de0291e9a842"
      },
      "source": [
        "rna_codon.items()"
      ],
      "execution_count": 7,
      "outputs": [
        {
          "output_type": "execute_result",
          "data": {
            "text/plain": [
              "dict_items([('UUU', 'F'), ('CUU', 'L'), ('AUU', 'I'), ('GUU', 'V'), ('UUC', 'F'), ('CUC', 'L'), ('AUC', 'I'), ('GUC', 'V'), ('UUA', 'L'), ('CUA', 'L'), ('AUA', 'I'), ('GUA', 'V'), ('UUG', 'L'), ('CUG', 'L'), ('AUG', 'M'), ('GUG', 'V'), ('UCU', 'S'), ('CCU', 'P'), ('ACU', 'T'), ('GCU', 'A'), ('UCC', 'S'), ('CCC', 'P'), ('ACC', 'T'), ('GCC', 'A'), ('UCA', 'S'), ('CCA', 'P'), ('ACA', 'T'), ('GCA', 'A'), ('UCG', 'S'), ('CCG', 'P'), ('ACG', 'T'), ('GCG', 'A'), ('UAU', 'Y'), ('CAU', 'H'), ('AAU', 'N'), ('GAU', 'D'), ('UAC', 'Y'), ('CAC', 'H'), ('AAC', 'N'), ('GAC', 'D'), ('UAA', 'STOP'), ('CAA', 'Q'), ('AAA', 'K'), ('GAA', 'E'), ('UAG', 'STOP'), ('CAG', 'Q'), ('AAG', 'K'), ('GAG', 'E'), ('UGU', 'C'), ('CGU', 'R'), ('AGU', 'S'), ('GGU', 'G'), ('UGC', 'C'), ('CGC', 'R'), ('AGC', 'S'), ('GGC', 'G'), ('UGA', 'STOP'), ('CGA', 'R'), ('AGA', 'R'), ('GGA', 'G'), ('UGG', 'W'), ('CGG', 'R'), ('AGG', 'R'), ('GGG', 'G')])"
            ]
          },
          "metadata": {},
          "execution_count": 7
        }
      ]
    },
    {
      "cell_type": "code",
      "metadata": {
        "id": "vmFB0PPFEHJv"
      },
      "source": [
        "#changing the single letter codes in the dictionary to the 3 letters amino acid codes\n",
        "for k, v in rna_codon.items():\n",
        "  m_dict = {\"F\": \"Phe\", \"A\":\"Ala\", \"R\":\"Arg\", \"N\":\"Asn\", \"D\": \"Asp\", \"C\":\"Cys\",\n",
        "            \"Q\":\"Gln\", \"E\": \"Glu\", \"G\":\"Gly\", \"H\":\"His\", \"I\":\"Ile\", \"L\":\"Leu\",\n",
        "            \"K\":\"Lys\", \"M\": \"Met\", \"P\":\"Pro\", \"S\":\"Ser\", \"T\":\"Thr\",\"W\":\"Trp\",\n",
        "            \"Y\":\"Tyr\", \"V\":\"Val\"}\n",
        "  if v in m_dict:\n",
        "    rna_codon.update({k: m_dict[v]})        \n",
        "    \n"
      ],
      "execution_count": 11,
      "outputs": []
    },
    {
      "cell_type": "code",
      "metadata": {
        "id": "PbSJsaO0NH7v"
      },
      "source": [
        "#Transcribing DNA to RNA\n",
        "beta_hemoglobin_dna = \"\"\"ACATTTGCTTCTGACACAACTGTGTTCACTAGCAACCTCAAACAGACACCATGGTGCATCTGACTCCTGA\n",
        "GGAGAAGTCTGCCGTTACTGCCCTGTGGGGCAAGGTGAACGTGGATGAAGTTGGTGGTGAGGCCCTGGGC\n",
        "AGGTTGGTATCAAGGTTACAAGACAGGTTTAAGGAGACCAATAGAAACTGGGCATGTGGAGACAGAGAAG\n",
        "ACTCTTGGGTTTCTGATAGGCACTGACTCTCTCTGCCTATTGGTCTATTTTCCCACCCTTAGGCTGCTGG\n",
        "TGGTCTACCCTTGGACCCAGAGGTTCTTTGAGTCCTTTGGGGATCTGTCCACTCCTGATGCTGTTATGGG\n",
        "CAACCCTAAGGTGAAGGCTCATGGCAAGAAAGTGCTCGGTGCCTTTAGTGATGGCCTGGCTCACCTGGAC\n",
        "AACCTCAAGGGCACCTTTGCCACACTGAGTGAGCTGCACTGTGACAAGCTGCACGTGGATCCTGAGAACT\n",
        "TCAGGGTGAGTCTATGGGACGCTTGATGTTTTCTTTCCCCTTCTTTTCTATGGTTAAGTTCATGTCATAG\n",
        "GAAGGGGATAAGTAACAGGGTACAGTTTAGAATGGGAAACAGACGAATGATTGCATCAGTGTGGAAGTCT\n",
        "CAGGATCGTTTTAGTTTCTTTTATTTGCTGTTCATAACAATTGTTTTCTTTTGTTTAATTCTTGCTTTCT\n",
        "TTTTTTTTCTTCTCCGCAATTTTTACTATTATACTTAATGCCTTAACATTGTGTATAACAAAAGGAAATA\n",
        "TCTCTGAGATACATTAAGTAACTTAAAAAAAAACTTTACACAGTCTGCCTAGTACATTACTATTTGGAAT\n",
        "ATATGTGTGCTTATTTGCATATTCATAATCTCCCTACTTTATTTTCTTTTATTTTTAATTGATACATAAT\n",
        "CATTATACATATTTATGGGTTAAAGTGTAATGTTTTAATATGTGTACACATATTGACCAAATCAGGGTAA\n",
        "TTTTGCATTTGTAATTTTAAAAAATGCTTTCTTCTTTTAATATACTTTTTTGTTTATCTTATTTCTAATA\n",
        "CTTTCCCTAATCTCTTTCTTTCAGGGCAATAATGATACAATGTATCATGCCTCTTTGCACCATTCTAAAG\n",
        "AATAACAGTGATAATTTCTGGGTTAAGGCAATAGCAATATCTCTGCATATAAATATTTCTGCATATAAAT\n",
        "TGTAACTGATGTAAGAGGTTTCATATTGCTAATAGCAGCTACAATCCAGCTACCATTCTGCTTTTATTTT\n",
        "ATGGTTGGGATAAGGCTGGATTATTCTGAGTCCAAGCTAGGCCCTTTTGCTAATCATGTTCATACCTCTT\n",
        "ATCTTCCTCCCACAGCTCCTGGGCAACGTGCTGGTCTGTGTGCTGGCCCATCACTTTGGCAAAGAATTCA\n",
        "CCCCACCAGTGCAGGCTGCCTATCAGAAAGTGGTGGCTGGTGTGGCTAATGCCCTGGCCCACAAGTATCA\n",
        "CTAAGCTCGCTTTCTTGCTGTCCAATTTCTATTAAAGGTTCCTTTGTTCCCTAAGTCCAACTACTAAACT\n",
        "GGGGGATATTATGAAGGGCCTTGAGCATCTGGATTCTGCCTAATAAAAAACATTTATTTTCATTGCAA\"\"\""
      ],
      "execution_count": 19,
      "outputs": []
    },
    {
      "cell_type": "code",
      "metadata": {
        "id": "6XQwScE_OkPt"
      },
      "source": [
        "#replace the new lines with an empty string\n",
        "dna = hemo.replace(\"\\n\", \"\")"
      ],
      "execution_count": 23,
      "outputs": []
    },
    {
      "cell_type": "code",
      "metadata": {
        "id": "WBLmpfs9Tlbm"
      },
      "source": [
        "#function to transcribe\n",
        "def transcribe(dna):\n",
        "  new_dna = dna.replace(\"\\n\", \"\")\n",
        "  transcript = new_dna.maketrans(\"ATGC\", \"UACG\")\n",
        "  rna = new_dna.translate(transcript)\n",
        "\n",
        "  return rna"
      ],
      "execution_count": 33,
      "outputs": []
    },
    {
      "cell_type": "code",
      "metadata": {
        "id": "GIuYGOxCUQvw"
      },
      "source": [
        "gamma_hemo_dna = \"\"\"ACACTCGCTTCTGGAACGTCTGAGGTTATCAATAAGCTCCTAGTCCAGACGCCATGGGTCATTTCACAGA\n",
        "GGAGGACAAGGCTACTATCACAAGCCTGTGGGGCAAGGTGAATGTGGAAGATGCTGGAGGAGAAACCCTG\n",
        "GGAAGGTAGGCTCTGGTGACCAGGACAAGGGAGGGAAGGAAGGACCCTGTGCCTGGCAAAAGTCCAGGTC\n",
        "GCTTCTCAGGATTTGTGGCACCTTCTGACTGTCAAACTGTTCTTGTCAATCTCACAGGCTCCTGGTTGTC\n",
        "TACCCATGGACCCAGAGGTTCTTTGACAGCTTTGGCAACCTGTCCTCTGCCTCTGCCATCATGGGCAACC\n",
        "CCAAAGTCAAGGCACATGGCAAGAAGGTGCTGACTTCCTTGGGAGATGCCACAAAGCACCTGGATGATCT\n",
        "CAAGGGCACCTTTGCCCAGCTGAGTGAACTGCACTGTGACAAGCTGCATGTGGATCCTGAGAACTTCAAG\n",
        "GTGAGTCCAGGAGATGTTTCAGCCCTGTTGCCTTTAGTCTCGAGGCAACTTAGACAACGGAGTATTGATC\n",
        "TGAGCACAGCAGGGTGTGAGCTGTTTGAAGATACTGGGGTTGGGGGTGAAGAAACTGCAGAGGACTAACT\n",
        "GGGCTGAGACCCAGTGGTAATGTTTTAGGGCCTAAGGAGTGCCTCTAAAAATCTAGATGGACAATTTTGA\n",
        "CTTTGAGAAAAGAGAGGTGGAAATGAGGAAAATGACTTTTCTTTATTAGATTCCAGTAGAAAGAACTTTC\n",
        "ATCTTTCCCTCATTTTTGTTGTTTTAAAACATCTATCTGGAGGCAGGACAAGTATGGTCGTTAAAAAGAT\n",
        "GCAGGCAGAAGGCATATATTGGCTCAGTCAAAGTGGGGAACTTTGGTGGCCAAACATACATTGCTAAGGC\n",
        "TATTCCTATATCAGCTGGACACATATAAAATGCTGCTAATGCTTCATTACAAACTTATATCCTTTAATTC\n",
        "CAGATGGGGGCAAAGTATGTCCAGGGGTGAGGAACAATTGAAACATTTGGGCTGGAGTAGATTTTGAAAG\n",
        "TCAGCTCTGTGTGTGTGTGTGTGTGTGCGCGCGCGCGTGTGTGTGTGTGTGTCAGCGTGTGTTTCTTTTA\n",
        "ACGTCTTCAGCCTACAACATACAGGGTTCATGGTGGCAAGAAGATAGCAAGATTTAAATTATGGCCAGTG\n",
        "ACTAGTGCTTGAAGGGGAACAACTACCTGCATTTAATGGGAAGGCAAAATCTCAGGCTTTGAGGGAAGTT\n",
        "AACATAGGCTTGATTCTGGGTGGAAGCTTGGTGTGTAGTTATCTGGAGGCCAGGCTGGAGCTCTCAGCTC\n",
        "ACTATGGGTTCATCTTTATTGTCTCCTTTCATCTCAACAGCTCCTGGGAAATGTGCTGGTGACCGTTTTG\n",
        "GCAATCCATTTCGGCAAAGAATTCACCCCTGAGGTGCAGGCTTCCTGGCAGAAGATGGTGACTGCAGTGG\n",
        "CCAGTGCCCTGTCCTCCAGATACCACTGAGCTCACTGCCCATGATTCAGAGCTTTCAAGGATAGGCTTTA\n",
        "TTCTGCAAGCAATACAAATAATAAATCTATTCTGCTGAGAGATCACACA  \n",
        "\n",
        "\n",
        "\"\"\""
      ],
      "execution_count": 34,
      "outputs": []
    },
    {
      "cell_type": "code",
      "metadata": {
        "colab": {
          "base_uri": "https://localhost:8080/",
          "height": 182
        },
        "id": "19xW2HHpU2PK",
        "outputId": "2cab5890-816b-467a-d8c2-a133921da806"
      },
      "source": [
        "transcribe(gamma_hemo_dna)"
      ],
      "execution_count": 35,
      "outputs": [
        {
          "output_type": "execute_result",
          "data": {
            "application/vnd.google.colaboratory.intrinsic+json": {
              "type": "string"
            },
            "text/plain": [
              "'UGUGAGCGAAGACCUUGCAGACUCCAAUAGUUAUUCGAGGAUCAGGUCUGCGGUACCCAGUAAAGUGUCUCCUCCUGUUCCGAUGAUAGUGUUCGGACACCCCGUUCCACUUACACCUUCUACGACCUCCUCUUUGGGACCCUUCCAUCCGAGACCACUGGUCCUGUUCCCUCCCUUCCUUCCUGGGACACGGACCGUUUUCAGGUCCAGCGAAGAGUCCUAAACACCGUGGAAGACUGACAGUUUGACAAGAACAGUUAGAGUGUCCGAGGACCAACAGAUGGGUACCUGGGUCUCCAAGAAACUGUCGAAACCGUUGGACAGGAGACGGAGACGGUAGUACCCGUUGGGGUUUCAGUUCCGUGUACCGUUCUUCCACGACUGAAGGAACCCUCUACGGUGUUUCGUGGACCUACUAGAGUUCCCGUGGAAACGGGUCGACUCACUUGACGUGACACUGUUCGACGUACACCUAGGACUCUUGAAGUUCCACUCAGGUCCUCUACAAAGUCGGGACAACGGAAAUCAGAGCUCCGUUGAAUCUGUUGCCUCAUAACUAGACUCGUGUCGUCCCACACUCGACAAACUUCUAUGACCCCAACCCCCACUUCUUUGACGUCUCCUGAUUGACCCGACUCUGGGUCACCAUUACAAAAUCCCGGAUUCCUCACGGAGAUUUUUAGAUCUACCUGUUAAAACUGAAACUCUUUUCUCUCCACCUUUACUCCUUUUACUGAAAAGAAAUAAUCUAAGGUCAUCUUUCUUGAAAGUAGAAAGGGAGUAAAAACAACAAAAUUUUGUAGAUAGACCUCCGUCCUGUUCAUACCAGCAAUUUUUCUACGUCCGUCUUCCGUAUAUAACCGAGUCAGUUUCACCCCUUGAAACCACCGGUUUGUAUGUAACGAUUCCGAUAAGGAUAUAGUCGACCUGUGUAUAUUUUACGACGAUUACGAAGUAAUGUUUGAAUAUAGGAAAUUAAGGUCUACCCCCGUUUCAUACAGGUCCCCACUCCUUGUUAACUUUGUAAACCCGACCUCAUCUAAAACUUUCAGUCGAGACACACACACACACACACACGCGCGCGCGCACACACACACACACAGUCGCACACAAAGAAAAUUGCAGAAGUCGGAUGUUGUAUGUCCCAAGUACCACCGUUCUUCUAUCGUUCUAAAUUUAAUACCGGUCACUGAUCACGAACUUCCCCUUGUUGAUGGACGUAAAUUACCCUUCCGUUUUAGAGUCCGAAACUCCCUUCAAUUGUAUCCGAACUAAGACCCACCUUCGAACCACACAUCAAUAGACCUCCGGUCCGACCUCGAGAGUCGAGUGAUACCCAAGUAGAAAUAACAGAGGAAAGUAGAGUUGUCGAGGACCCUUUACACGACCACUGGCAAAACCGUUAGGUAAAGCCGUUUCUUAAGUGGGGACUCCACGUCCGAAGGACCGUCUUCUACCACUGACGUCACCGGUCACGGGACAGGAGGUCUAUGGUGACUCGAGUGACGGGUACUAAGUCUCGAAAGUUCCUAUCCGAAAUAAGACGUUCGUUAUGUUUAUUAUUUAGAUAAGACGACUCUCUAGUGUGU  '"
            ]
          },
          "metadata": {},
          "execution_count": 35
        }
      ]
    },
    {
      "cell_type": "code",
      "metadata": {
        "id": "-rUEIK18Pix2"
      },
      "source": [
        "trancript = dna.maketrans(\"ATGC\", \"UACG\")\n"
      ],
      "execution_count": 24,
      "outputs": []
    },
    {
      "cell_type": "code",
      "metadata": {
        "id": "H6ocj5DHSbJy"
      },
      "source": [
        "rna_seq = dna.translate(trancript)"
      ],
      "execution_count": 27,
      "outputs": []
    },
    {
      "cell_type": "code",
      "metadata": {
        "id": "ZthLKJNxSnxV"
      },
      "source": [
        "rna_seq"
      ],
      "execution_count": null,
      "outputs": []
    },
    {
      "cell_type": "code",
      "metadata": {
        "id": "f0hNILFSGpTR"
      },
      "source": [
        "#RNA sequence\n",
        "Rna = \"AUGCUGGAUGGAACUUGACUACGUAAAUU\""
      ],
      "execution_count": 13,
      "outputs": []
    },
    {
      "cell_type": "code",
      "metadata": {
        "id": "EsxGA0RSSv8A"
      },
      "source": [
        "#create a function to translate\n",
        "def translate_rna(rna):\n",
        "  protein = \"\"\n",
        "  for i in range(0, len(rna), 3):\n",
        "    codon = rna[i:i+3]\n",
        "    if len(codon) != 3:\n",
        "      break\n",
        "    protein = protein + \"-\" + rna_codon[codon]\n",
        "  return protein    "
      ],
      "execution_count": 32,
      "outputs": []
    },
    {
      "cell_type": "code",
      "metadata": {
        "id": "HQ249gJPTWZB"
      },
      "source": [
        "translate(rna_seq)"
      ],
      "execution_count": null,
      "outputs": []
    },
    {
      "cell_type": "code",
      "metadata": {
        "id": "a-waRdsgJp0N"
      },
      "source": [
        "protein = \"\"\n",
        "for i in range(0, len(Rna), 3):\n",
        "  codon = Rna[i:i+3]\n",
        "  if len(codon) != 3:\n",
        "    break\n",
        "  protein = protein + \"-\" + rna_codon[codon]"
      ],
      "execution_count": 17,
      "outputs": []
    },
    {
      "cell_type": "code",
      "metadata": {
        "colab": {
          "base_uri": "https://localhost:8080/",
          "height": 36
        },
        "id": "4aPTy8VmMj3L",
        "outputId": "86925e9a-d953-4682-f7aa-00e331a936f9"
      },
      "source": [
        "protein"
      ],
      "execution_count": 18,
      "outputs": [
        {
          "output_type": "execute_result",
          "data": {
            "application/vnd.google.colaboratory.intrinsic+json": {
              "type": "string"
            },
            "text/plain": [
              "'-Met-Leu-Asp-Gly-Thr-STOP-Leu-Arg-Lys'"
            ]
          },
          "metadata": {},
          "execution_count": 18
        }
      ]
    },
    {
      "cell_type": "code",
      "metadata": {
        "id": "UjymQCOFMlHB"
      },
      "source": [
        ""
      ],
      "execution_count": null,
      "outputs": []
    }
  ]
}